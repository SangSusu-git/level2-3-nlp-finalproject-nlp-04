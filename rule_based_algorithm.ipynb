{
  "nbformat": 4,
  "nbformat_minor": 0,
  "metadata": {
    "colab": {
      "provenance": []
    },
    "kernelspec": {
      "name": "python3",
      "display_name": "Python 3"
    },
    "language_info": {
      "name": "python"
    }
  },
  "cells": [
    {
      "cell_type": "markdown",
      "source": [
        "# xlsx to csv"
      ],
      "metadata": {
        "id": "lbJDZ79rINx5"
      }
    },
    {
      "cell_type": "code",
      "execution_count": null,
      "metadata": {
        "id": "hR_SY_LsH-OV"
      },
      "outputs": [],
      "source": [
        "import pandas as pd\n",
        "import random\n",
        "import re"
      ]
    },
    {
      "cell_type": "code",
      "source": [
        "data = pd.read_excel(\"rulebased_data.xlsx\", header=None)\n",
        "data.to_csv(\"rulebased_data.csv\")"
      ],
      "metadata": {
        "id": "a5bahZaMIDas"
      },
      "execution_count": null,
      "outputs": []
    },
    {
      "cell_type": "code",
      "source": [
        "data.head()"
      ],
      "metadata": {
        "colab": {
          "base_uri": "https://localhost:8080/",
          "height": 206
        },
        "id": "zMkvD1qWIHdN",
        "outputId": "9dee09d2-5ae9-419f-cfa5-80557d6b4e10"
      },
      "execution_count": null,
      "outputs": [
        {
          "output_type": "execute_result",
          "data": {
            "text/plain": [
              "                           0  \\\n",
              "0  ['컴퓨터 비전', 'cv', '컴퓨터비전']   \n",
              "1  ['컴퓨터 비전', 'cv', '컴퓨터비전']   \n",
              "2  ['컴퓨터 비전', 'cv', '컴퓨터비전']   \n",
              "3  ['컴퓨터 비전', 'cv', '컴퓨터비전']   \n",
              "4  ['컴퓨터 비전', 'cv', '컴퓨터비전']   \n",
              "\n",
              "                                                   1  \n",
              "0  OpenCV 라이브러리만을 사용해서 이미지 뷰어(Crop, 흑백화, Zoom 등의 ...  \n",
              "1        딥러닝 발달 이전에 사물을 Detect할 때 자주 사용하던 방법은 무엇인가요?  \n",
              "2                       Faster R-CNN의 장점과 단점은 무엇인가요?  \n",
              "3                                       dlib은 무엇인가요?  \n",
              "4                               YOLO의 장점과 단점은 무엇인가요?  "
            ],
            "text/html": [
              "\n",
              "  <div id=\"df-7bd0bcc1-aee0-433e-afca-185e8e9da60d\" class=\"colab-df-container\">\n",
              "    <div>\n",
              "<style scoped>\n",
              "    .dataframe tbody tr th:only-of-type {\n",
              "        vertical-align: middle;\n",
              "    }\n",
              "\n",
              "    .dataframe tbody tr th {\n",
              "        vertical-align: top;\n",
              "    }\n",
              "\n",
              "    .dataframe thead th {\n",
              "        text-align: right;\n",
              "    }\n",
              "</style>\n",
              "<table border=\"1\" class=\"dataframe\">\n",
              "  <thead>\n",
              "    <tr style=\"text-align: right;\">\n",
              "      <th></th>\n",
              "      <th>0</th>\n",
              "      <th>1</th>\n",
              "    </tr>\n",
              "  </thead>\n",
              "  <tbody>\n",
              "    <tr>\n",
              "      <th>0</th>\n",
              "      <td>['컴퓨터 비전', 'cv', '컴퓨터비전']</td>\n",
              "      <td>OpenCV 라이브러리만을 사용해서 이미지 뷰어(Crop, 흑백화, Zoom 등의 ...</td>\n",
              "    </tr>\n",
              "    <tr>\n",
              "      <th>1</th>\n",
              "      <td>['컴퓨터 비전', 'cv', '컴퓨터비전']</td>\n",
              "      <td>딥러닝 발달 이전에 사물을 Detect할 때 자주 사용하던 방법은 무엇인가요?</td>\n",
              "    </tr>\n",
              "    <tr>\n",
              "      <th>2</th>\n",
              "      <td>['컴퓨터 비전', 'cv', '컴퓨터비전']</td>\n",
              "      <td>Faster R-CNN의 장점과 단점은 무엇인가요?</td>\n",
              "    </tr>\n",
              "    <tr>\n",
              "      <th>3</th>\n",
              "      <td>['컴퓨터 비전', 'cv', '컴퓨터비전']</td>\n",
              "      <td>dlib은 무엇인가요?</td>\n",
              "    </tr>\n",
              "    <tr>\n",
              "      <th>4</th>\n",
              "      <td>['컴퓨터 비전', 'cv', '컴퓨터비전']</td>\n",
              "      <td>YOLO의 장점과 단점은 무엇인가요?</td>\n",
              "    </tr>\n",
              "  </tbody>\n",
              "</table>\n",
              "</div>\n",
              "    <div class=\"colab-df-buttons\">\n",
              "\n",
              "  <div class=\"colab-df-container\">\n",
              "    <button class=\"colab-df-convert\" onclick=\"convertToInteractive('df-7bd0bcc1-aee0-433e-afca-185e8e9da60d')\"\n",
              "            title=\"Convert this dataframe to an interactive table.\"\n",
              "            style=\"display:none;\">\n",
              "\n",
              "  <svg xmlns=\"http://www.w3.org/2000/svg\" height=\"24px\" viewBox=\"0 -960 960 960\">\n",
              "    <path d=\"M120-120v-720h720v720H120Zm60-500h600v-160H180v160Zm220 220h160v-160H400v160Zm0 220h160v-160H400v160ZM180-400h160v-160H180v160Zm440 0h160v-160H620v160ZM180-180h160v-160H180v160Zm440 0h160v-160H620v160Z\"/>\n",
              "  </svg>\n",
              "    </button>\n",
              "\n",
              "  <style>\n",
              "    .colab-df-container {\n",
              "      display:flex;\n",
              "      gap: 12px;\n",
              "    }\n",
              "\n",
              "    .colab-df-convert {\n",
              "      background-color: #E8F0FE;\n",
              "      border: none;\n",
              "      border-radius: 50%;\n",
              "      cursor: pointer;\n",
              "      display: none;\n",
              "      fill: #1967D2;\n",
              "      height: 32px;\n",
              "      padding: 0 0 0 0;\n",
              "      width: 32px;\n",
              "    }\n",
              "\n",
              "    .colab-df-convert:hover {\n",
              "      background-color: #E2EBFA;\n",
              "      box-shadow: 0px 1px 2px rgba(60, 64, 67, 0.3), 0px 1px 3px 1px rgba(60, 64, 67, 0.15);\n",
              "      fill: #174EA6;\n",
              "    }\n",
              "\n",
              "    .colab-df-buttons div {\n",
              "      margin-bottom: 4px;\n",
              "    }\n",
              "\n",
              "    [theme=dark] .colab-df-convert {\n",
              "      background-color: #3B4455;\n",
              "      fill: #D2E3FC;\n",
              "    }\n",
              "\n",
              "    [theme=dark] .colab-df-convert:hover {\n",
              "      background-color: #434B5C;\n",
              "      box-shadow: 0px 1px 3px 1px rgba(0, 0, 0, 0.15);\n",
              "      filter: drop-shadow(0px 1px 2px rgba(0, 0, 0, 0.3));\n",
              "      fill: #FFFFFF;\n",
              "    }\n",
              "  </style>\n",
              "\n",
              "    <script>\n",
              "      const buttonEl =\n",
              "        document.querySelector('#df-7bd0bcc1-aee0-433e-afca-185e8e9da60d button.colab-df-convert');\n",
              "      buttonEl.style.display =\n",
              "        google.colab.kernel.accessAllowed ? 'block' : 'none';\n",
              "\n",
              "      async function convertToInteractive(key) {\n",
              "        const element = document.querySelector('#df-7bd0bcc1-aee0-433e-afca-185e8e9da60d');\n",
              "        const dataTable =\n",
              "          await google.colab.kernel.invokeFunction('convertToInteractive',\n",
              "                                                    [key], {});\n",
              "        if (!dataTable) return;\n",
              "\n",
              "        const docLinkHtml = 'Like what you see? Visit the ' +\n",
              "          '<a target=\"_blank\" href=https://colab.research.google.com/notebooks/data_table.ipynb>data table notebook</a>'\n",
              "          + ' to learn more about interactive tables.';\n",
              "        element.innerHTML = '';\n",
              "        dataTable['output_type'] = 'display_data';\n",
              "        await google.colab.output.renderOutput(dataTable, element);\n",
              "        const docLink = document.createElement('div');\n",
              "        docLink.innerHTML = docLinkHtml;\n",
              "        element.appendChild(docLink);\n",
              "      }\n",
              "    </script>\n",
              "  </div>\n",
              "\n",
              "\n",
              "<div id=\"df-05657f86-1d78-4301-950a-f8dda17ed8ac\">\n",
              "  <button class=\"colab-df-quickchart\" onclick=\"quickchart('df-05657f86-1d78-4301-950a-f8dda17ed8ac')\"\n",
              "            title=\"Suggest charts\"\n",
              "            style=\"display:none;\">\n",
              "\n",
              "<svg xmlns=\"http://www.w3.org/2000/svg\" height=\"24px\"viewBox=\"0 0 24 24\"\n",
              "     width=\"24px\">\n",
              "    <g>\n",
              "        <path d=\"M19 3H5c-1.1 0-2 .9-2 2v14c0 1.1.9 2 2 2h14c1.1 0 2-.9 2-2V5c0-1.1-.9-2-2-2zM9 17H7v-7h2v7zm4 0h-2V7h2v10zm4 0h-2v-4h2v4z\"/>\n",
              "    </g>\n",
              "</svg>\n",
              "  </button>\n",
              "\n",
              "<style>\n",
              "  .colab-df-quickchart {\n",
              "      --bg-color: #E8F0FE;\n",
              "      --fill-color: #1967D2;\n",
              "      --hover-bg-color: #E2EBFA;\n",
              "      --hover-fill-color: #174EA6;\n",
              "      --disabled-fill-color: #AAA;\n",
              "      --disabled-bg-color: #DDD;\n",
              "  }\n",
              "\n",
              "  [theme=dark] .colab-df-quickchart {\n",
              "      --bg-color: #3B4455;\n",
              "      --fill-color: #D2E3FC;\n",
              "      --hover-bg-color: #434B5C;\n",
              "      --hover-fill-color: #FFFFFF;\n",
              "      --disabled-bg-color: #3B4455;\n",
              "      --disabled-fill-color: #666;\n",
              "  }\n",
              "\n",
              "  .colab-df-quickchart {\n",
              "    background-color: var(--bg-color);\n",
              "    border: none;\n",
              "    border-radius: 50%;\n",
              "    cursor: pointer;\n",
              "    display: none;\n",
              "    fill: var(--fill-color);\n",
              "    height: 32px;\n",
              "    padding: 0;\n",
              "    width: 32px;\n",
              "  }\n",
              "\n",
              "  .colab-df-quickchart:hover {\n",
              "    background-color: var(--hover-bg-color);\n",
              "    box-shadow: 0 1px 2px rgba(60, 64, 67, 0.3), 0 1px 3px 1px rgba(60, 64, 67, 0.15);\n",
              "    fill: var(--button-hover-fill-color);\n",
              "  }\n",
              "\n",
              "  .colab-df-quickchart-complete:disabled,\n",
              "  .colab-df-quickchart-complete:disabled:hover {\n",
              "    background-color: var(--disabled-bg-color);\n",
              "    fill: var(--disabled-fill-color);\n",
              "    box-shadow: none;\n",
              "  }\n",
              "\n",
              "  .colab-df-spinner {\n",
              "    border: 2px solid var(--fill-color);\n",
              "    border-color: transparent;\n",
              "    border-bottom-color: var(--fill-color);\n",
              "    animation:\n",
              "      spin 1s steps(1) infinite;\n",
              "  }\n",
              "\n",
              "  @keyframes spin {\n",
              "    0% {\n",
              "      border-color: transparent;\n",
              "      border-bottom-color: var(--fill-color);\n",
              "      border-left-color: var(--fill-color);\n",
              "    }\n",
              "    20% {\n",
              "      border-color: transparent;\n",
              "      border-left-color: var(--fill-color);\n",
              "      border-top-color: var(--fill-color);\n",
              "    }\n",
              "    30% {\n",
              "      border-color: transparent;\n",
              "      border-left-color: var(--fill-color);\n",
              "      border-top-color: var(--fill-color);\n",
              "      border-right-color: var(--fill-color);\n",
              "    }\n",
              "    40% {\n",
              "      border-color: transparent;\n",
              "      border-right-color: var(--fill-color);\n",
              "      border-top-color: var(--fill-color);\n",
              "    }\n",
              "    60% {\n",
              "      border-color: transparent;\n",
              "      border-right-color: var(--fill-color);\n",
              "    }\n",
              "    80% {\n",
              "      border-color: transparent;\n",
              "      border-right-color: var(--fill-color);\n",
              "      border-bottom-color: var(--fill-color);\n",
              "    }\n",
              "    90% {\n",
              "      border-color: transparent;\n",
              "      border-bottom-color: var(--fill-color);\n",
              "    }\n",
              "  }\n",
              "</style>\n",
              "\n",
              "  <script>\n",
              "    async function quickchart(key) {\n",
              "      const quickchartButtonEl =\n",
              "        document.querySelector('#' + key + ' button');\n",
              "      quickchartButtonEl.disabled = true;  // To prevent multiple clicks.\n",
              "      quickchartButtonEl.classList.add('colab-df-spinner');\n",
              "      try {\n",
              "        const charts = await google.colab.kernel.invokeFunction(\n",
              "            'suggestCharts', [key], {});\n",
              "      } catch (error) {\n",
              "        console.error('Error during call to suggestCharts:', error);\n",
              "      }\n",
              "      quickchartButtonEl.classList.remove('colab-df-spinner');\n",
              "      quickchartButtonEl.classList.add('colab-df-quickchart-complete');\n",
              "    }\n",
              "    (() => {\n",
              "      let quickchartButtonEl =\n",
              "        document.querySelector('#df-05657f86-1d78-4301-950a-f8dda17ed8ac button');\n",
              "      quickchartButtonEl.style.display =\n",
              "        google.colab.kernel.accessAllowed ? 'block' : 'none';\n",
              "    })();\n",
              "  </script>\n",
              "</div>\n",
              "\n",
              "    </div>\n",
              "  </div>\n"
            ],
            "application/vnd.google.colaboratory.intrinsic+json": {
              "type": "dataframe",
              "variable_name": "data",
              "summary": "{\n  \"name\": \"data\",\n  \"rows\": 900,\n  \"fields\": [\n    {\n      \"column\": 0,\n      \"properties\": {\n        \"dtype\": \"category\",\n        \"num_unique_values\": 45,\n        \"samples\": [\n          \"['\\ud074\\ub77c\\uc6b0\\ub4dc', 'cloud']\",\n          \"['c++']\",\n          \"['\\ud504\\ub860\\ud2b8\\uc5d4\\ub4dc', 'frontend']\"\n        ],\n        \"semantic_type\": \"\",\n        \"description\": \"\"\n      }\n    },\n    {\n      \"column\": 1,\n      \"properties\": {\n        \"dtype\": \"string\",\n        \"num_unique_values\": 884,\n        \"samples\": [\n          \"Django\\uc5d0\\uc11c\\u00a0PostgreSQL\\uc744\\u00a0\\uc120\\ud638\\ud558\\ub294\\u00a0\\uc774\\uc720\\ub294\\u00a0\\ubb34\\uc5c7\\uc785\\ub2c8\\uae4c?\",\n          \"Apache Hadoop \\ud504\\ub808\\uc784 \\uc6cc\\ud06c\\uc758 \\uae30\\ubcf8 \\uac1c\\ub150\\uc744 \\uc124\\uba85\\ud558\\uc2ed\\uc2dc\\uc624.\",\n          \"use strict \\uc740 \\ubb34\\uc5c7\\uc774\\uace0, \\uc0ac\\uc6a9\\ud588\\uc744 \\ub54c \\uc7a5\\ub2e8\\uc810\\uc5d0 \\uad00\\ud574\\uc11c \\uc124\\uba85\\ud574\\uc8fc\\uc138\\uc694.\"\n        ],\n        \"semantic_type\": \"\",\n        \"description\": \"\"\n      }\n    }\n  ]\n}"
            }
          },
          "metadata": {},
          "execution_count": 155
        }
      ]
    },
    {
      "cell_type": "code",
      "source": [
        "d = dict()\n",
        "for i in range(len(data)):\n",
        "    if data[0][i] in d.keys():\n",
        "        d[data[0][i]].append(data[1][i])\n",
        "    else:\n",
        "        d[data[0][i]] = [data[1][i]]"
      ],
      "metadata": {
        "id": "Ewsv3qvYIIfV"
      },
      "execution_count": null,
      "outputs": []
    },
    {
      "cell_type": "code",
      "source": [
        "L = [eval(i) for i in d.keys()]"
      ],
      "metadata": {
        "id": "7ToPsJO8Ib1i"
      },
      "execution_count": null,
      "outputs": []
    },
    {
      "cell_type": "markdown",
      "source": [
        "# 이력서/채용공고 + 규칙 적용"
      ],
      "metadata": {
        "id": "bKsOzQtiIgGU"
      }
    },
    {
      "cell_type": "code",
      "source": [
        "jd = open('jd.txt','r',encoding='utf-8').read().lower() # 채용 공고 input\n",
        "cv = open('cv.txt','r',encoding='utf-8').read().lower() # 이력서/자소서 input"
      ],
      "metadata": {
        "id": "yzFu-fzoIlEC"
      },
      "execution_count": null,
      "outputs": []
    },
    {
      "cell_type": "code",
      "source": [
        "# 직군\n",
        "positon = 'AI'\n",
        "position = 'BE'\n",
        "position = 'FE'"
      ],
      "metadata": {
        "id": "XzYemqQZIqqm"
      },
      "execution_count": null,
      "outputs": []
    },
    {
      "cell_type": "code",
      "source": [
        "position = 'BE'"
      ],
      "metadata": {
        "id": "tUev0byQg9n3"
      },
      "execution_count": null,
      "outputs": []
    },
    {
      "cell_type": "code",
      "source": [
        "ai = ['ai', '머신러닝', '딥러닝', 'ml', 'dl']\n",
        "fe = ['프론트엔드', 'frontend']\n",
        "be = ['백엔드', 'backend']"
      ],
      "metadata": {
        "id": "DWLhPizusb6B"
      },
      "execution_count": null,
      "outputs": []
    },
    {
      "cell_type": "code",
      "source": [
        "# 질문 리스트\n",
        "question_essential = []\n",
        "if position == 'AI':\n",
        "    ai_list = d[str(ai)]\n",
        "    ai_list = random.sample(ai_list, 2)\n",
        "    question_essential.extend(ai_list)\n",
        "if position == 'FE':\n",
        "    fe_list = d[str(fe)]\n",
        "    fe_list = random.sample(fe_list, 2)\n",
        "    question_essential.extend(fe_list)\n",
        "if position == 'BE':\n",
        "    be_list = d[str(be)]\n",
        "    be_list = random.sample(be_list, 2)\n",
        "    question_essential.extend(be_list)"
      ],
      "metadata": {
        "id": "p_2ukOl1YAW6"
      },
      "execution_count": null,
      "outputs": []
    },
    {
      "cell_type": "code",
      "source": [
        "github = ['github', 'git', '깃허브', '깃헙', '깃']\n",
        "cs = ['cs 지식', 'cs지식', '자료구조', '알고리즘']\n",
        "docker = ['docker', '가상 환경', '가상환경']"
      ],
      "metadata": {
        "id": "o3yzE9-lfVHp"
      },
      "execution_count": null,
      "outputs": []
    },
    {
      "cell_type": "code",
      "source": [
        "for i in github:\n",
        "    pattern = ' '+i\n",
        "    if re.findall(pattern,jd):\n",
        "        question_essential.extend(random.sample(d[str(github)], 1))\n",
        "        break\n",
        "for i in cs:\n",
        "    pattern = ' '+i\n",
        "    if re.findall(pattern,jd):\n",
        "        question_essential.extend(random.sample(d[str(cs)], 1))\n",
        "        break\n",
        "for i in docker:\n",
        "    pattern = ' '+i\n",
        "    if re.findall(pattern,jd):\n",
        "        question_essential.extend(random.sample(d[str(docker)], 1))\n",
        "        break"
      ],
      "metadata": {
        "id": "0Wud5VhGfbx0"
      },
      "execution_count": null,
      "outputs": []
    },
    {
      "cell_type": "code",
      "source": [
        "dlf = ['딥러닝 프레임워크', 'deep learning framework', ' tensorflow', 'pytorch', 'keras']\n",
        "if position == 'AI':\n",
        "    for i in dlf:\n",
        "        if re.findall('^[a-z]'+i+'^[a-z]',jd):\n",
        "            question_essential.extend(random.sample(d[str(dlf)], 1))"
      ],
      "metadata": {
        "id": "CDC2a9LoeqPd"
      },
      "execution_count": null,
      "outputs": []
    },
    {
      "cell_type": "code",
      "source": [
        "java = ['자바', 'java']\n",
        "python = ['파이썬', 'python']\n",
        "cpp = ['c++']\n",
        "javascript = ['javascript', '자바스크립트']\n",
        "go = ['go']"
      ],
      "metadata": {
        "id": "1v4Bl5qSKc0e"
      },
      "execution_count": null,
      "outputs": []
    },
    {
      "cell_type": "code",
      "source": [
        "#채용공고에 언어가 몇 개 포함되어 있는지 확인\n",
        "langlist_jd = []\n",
        "langlist_cv = []\n",
        "langtype = [java, python, cpp, javascript, go]\n",
        "for i in langtype:\n",
        "    for j in i:\n",
        "        pattern1  = ' '+j+' '\n",
        "        pattern2 = ' '+j+','\n",
        "        if pattern1 in cv or pattern2 in jd:\n",
        "            langlist_jd.append(i)\n",
        "            break\n",
        "\n",
        "for i in langtype:\n",
        "    for j in i:\n",
        "        pattern1  = ' '+j+' '\n",
        "        pattern2 = ' '+j+','\n",
        "        if pattern1 in cv or pattern2 in cv:\n",
        "            langlist_cv.append(i)\n",
        "            break\n",
        "\n",
        "\n",
        "langlist = []\n",
        "\n",
        "if langlist_cv and not langlist_jd:\n",
        "    question_essential.extend(random.sample(d[str(langlist_cv[0])], 1))\n",
        "if len(langlist_jd) == 1:\n",
        "    lang = random.sample(d[str(langlist_jd[0])], 1)\n",
        "    question_essential.extend(lang)\n",
        "if len(langlist_jd) > 2:\n",
        "    for i in langlist_jd:\n",
        "        if i in langlist_cv:\n",
        "            langlist.append(i)\n",
        "    if langlist:\n",
        "        lang = random.sample(d[str(langlist[0])], 1)\n",
        "    else:\n",
        "        lang = random.sample(d[str(langlist_jd[0])], 1)\n"
      ],
      "metadata": {
        "id": "IY8nHluNJULt"
      },
      "execution_count": null,
      "outputs": []
    },
    {
      "cell_type": "markdown",
      "source": [
        "# 질문 추출"
      ],
      "metadata": {
        "id": "LcKrkKTQftYV"
      }
    },
    {
      "cell_type": "code",
      "source": [
        "print(question_essential)"
      ],
      "metadata": {
        "colab": {
          "base_uri": "https://localhost:8080/"
        },
        "id": "v4GYUcbyfvD0",
        "outputId": "bde30c5c-b2d0-4937-8f5d-381ed3a44261"
      },
      "execution_count": null,
      "outputs": [
        {
          "output_type": "stream",
          "name": "stdout",
          "text": [
            "['회원가입을 할 때 비밀번호를 암호화하여 저장하는 이유는 무엇입니까?', '대용량 트래픽에서 장애가 발생하면 어떻게 대응할 것인가요?', 'Docker 이미지와 컨테이너의 차이점은 무엇인가요? 이미지를 컨테이너로 변환하는 과정을 설명해주세요.', 'Java의 리플렉션에 대해 설명하세요.']\n"
          ]
        }
      ]
    },
    {
      "cell_type": "code",
      "source": [
        "question_by_jd = []"
      ],
      "metadata": {
        "id": "dIKatz6nqscR"
      },
      "execution_count": null,
      "outputs": []
    },
    {
      "cell_type": "code",
      "source": [
        "L = [i for i in L if i not in [github, cs, docker, dlf, java, python, go, cpp, javascript, ai, be, fe]]"
      ],
      "metadata": {
        "id": "w0GAOEUvryNF"
      },
      "execution_count": null,
      "outputs": []
    },
    {
      "cell_type": "code",
      "source": [
        "for i in L:\n",
        "    for j in i:\n",
        "        if j in jd:\n",
        "            question_by_jd.extend(d[str(i)])"
      ],
      "metadata": {
        "id": "JsHnA1p5pD8K"
      },
      "execution_count": null,
      "outputs": []
    },
    {
      "cell_type": "code",
      "source": [
        "if question_by_jd:\n",
        "    question_by_jd = random.sample(question_by_jd, 10-len(question_essential))\n",
        "    questions = question_essential + question_by_jd"
      ],
      "metadata": {
        "id": "Uzv5TyzKrlgh"
      },
      "execution_count": null,
      "outputs": []
    },
    {
      "cell_type": "code",
      "source": [
        "if not question_by_jd:\n",
        "    question_by_jd.extend(d[str(github)])\n",
        "    question_by_jd.extend(d[str(cs)])\n",
        "    question_by_jd.extend(d[str(docker)])\n",
        "    question_by_jd = random.sample(question_by_jd, 10)\n",
        "    question_by_jd = [i for i in question_by_jd if i not in question_essential]"
      ],
      "metadata": {
        "id": "v05ThoVGuyCy"
      },
      "execution_count": null,
      "outputs": []
    },
    {
      "cell_type": "code",
      "source": [
        "questions = question_essential + question_by_jd\n",
        "questions = questions[:10]"
      ],
      "metadata": {
        "id": "No_jw5SOy3I_"
      },
      "execution_count": null,
      "outputs": []
    }
  ]
}